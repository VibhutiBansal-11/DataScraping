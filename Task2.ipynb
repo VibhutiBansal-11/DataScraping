{
 "cells": [
  {
   "cell_type": "code",
   "execution_count": null,
   "id": "bb2860d3",
   "metadata": {},
   "outputs": [],
   "source": [
    "from google.colab import drive\n",
    "drive.mount('/content/drive')"
   ]
  },
  {
   "cell_type": "code",
   "execution_count": null,
   "id": "4b3729f2",
   "metadata": {},
   "outputs": [],
   "source": [
    "!pip install easyocr\n",
    "!apt-get install poppler-utils\n",
    "!pip install pdf2image\n",
    "!pip install python-poppler\n",
    "!pip uninstall opencv-python-headless==4.5.5.62\n",
    "!pip install opencv-python-headless==4.5.2.52"
   ]
  },
  {
   "cell_type": "code",
   "execution_count": null,
   "id": "d6bdcce3",
   "metadata": {},
   "outputs": [],
   "source": [
    "import numpy as np\n",
    "import pandas as pd\n",
    "import matplotlib.pyplot as plt\n",
    "import easyocr\n",
    "from pylab import rcParams\n",
    "from pdf2image import convert_from_path\n",
    "import os\n",
    "import requests\n",
    "from urllib.parse import urljoin\n",
    "from bs4 import BeautifulSoup\n",
    "import urllib.request\n",
    "from PIL import Image\n"
   ]
  },
  {
   "cell_type": "code",
   "execution_count": null,
   "id": "e2b3b16d",
   "metadata": {},
   "outputs": [],
   "source": [
    "ds = pd.read_csv(\"/content/Data Engineer Task - Data Engineer Task.csv\")"
   ]
  },
  {
   "cell_type": "code",
   "execution_count": null,
   "id": "6f463b92",
   "metadata": {},
   "outputs": [],
   "source": [
    "files = ds.iloc[:,0].values\n",
    "files = list(files)"
   ]
  },
  {
   "cell_type": "code",
   "execution_count": null,
   "id": "5319b943",
   "metadata": {},
   "outputs": [],
   "source": [
    "edit_links=[]\n",
    "for url in files:\n",
    "  if(url.endswith('.pdf')):\n",
    "    edit_links.append(url)\n",
    "    \n",
    "  else:\n",
    "    response = requests.get(url)\n",
    "    soup= BeautifulSoup(response.text, \"html.parser\")     \n",
    "    link = soup.select(\"a[href$='.pdf']\")[0]\n",
    "  \n",
    "    filename = os.path.join(link['href'].split('/')[-1])\n",
    "    edit_links.append(urljoin(url,link['href']))"
   ]
  },
  {
   "cell_type": "code",
   "execution_count": null,
   "id": "e70e43a2",
   "metadata": {},
   "outputs": [],
   "source": [
    "folder_location = r'/content/PDF'\n",
    "if not os.path.exists(folder_location):os.mkdir(folder_location)"
   ]
  },
  {
   "cell_type": "code",
   "execution_count": null,
   "id": "13881295",
   "metadata": {},
   "outputs": [],
   "source": [
    "for i in range(len(edit_links)):\n",
    "  print(edit_links[i])\n",
    " \n",
    "\n",
    "  filename = os.path.join(folder_location,str(i)+'.pdf')\n",
    "  with open(filename, 'wb') as f:\n",
    "      f.write(requests.get(edit_links[i]).content)\n",
    "  "
   ]
  },
  {
   "cell_type": "code",
   "execution_count": null,
   "id": "8b11d9bf",
   "metadata": {},
   "outputs": [],
   "source": [
    "reader = easyocr.Reader(['en','hi','mr'])"
   ]
  },
  {
   "cell_type": "code",
   "execution_count": null,
   "id": "e19660e5",
   "metadata": {},
   "outputs": [],
   "source": [
    "res = []\n",
    "final_text = \"\""
   ]
  },
  {
   "cell_type": "code",
   "execution_count": null,
   "id": "b63e96ef",
   "metadata": {},
   "outputs": [],
   "source": [
    "for i in range(len(edit_links)):\n",
    "  final_text=''\n",
    "  pages = convert_from_path(os.path.join(folder_location,str(i)+'.pdf'))\n",
    "  for page in pages:\n",
    "    page.save('page.png')\n",
    "    img_text = reader.readtext('page.png')\n",
    "\n",
    "\n",
    "    for _, text, __ in img_text: # _ = bounding box, text = text and __ = confident level\n",
    "        final_text += \" \"\n",
    "        final_text += text\n",
    "  unit = {    \n",
    "          \"page-url\": files[i],\n",
    "          \"pdf-url\": edit_links[i],\n",
    "          \"pdf-content\":final_text\n",
    "   }\n",
    "  res.append(unit)\n"
   ]
  },
  {
   "cell_type": "code",
   "execution_count": null,
   "id": "9137669a",
   "metadata": {},
   "outputs": [],
   "source": [
    "with open('/content/drive/MyDrive/submission.json', 'w', encoding='utf8') as json_file:\n",
    "    j.dump(res, json_file, ensure_ascii=False)"
   ]
  }
 ],
 "metadata": {
  "kernelspec": {
   "display_name": "Python 3 (ipykernel)",
   "language": "python",
   "name": "python3"
  },
  "language_info": {
   "codemirror_mode": {
    "name": "ipython",
    "version": 3
   },
   "file_extension": ".py",
   "mimetype": "text/x-python",
   "name": "python",
   "nbconvert_exporter": "python",
   "pygments_lexer": "ipython3",
   "version": "3.9.7"
  }
 },
 "nbformat": 4,
 "nbformat_minor": 5
}
